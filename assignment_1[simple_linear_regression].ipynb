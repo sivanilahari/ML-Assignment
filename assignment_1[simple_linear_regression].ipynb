{
  "nbformat": 4,
  "nbformat_minor": 0,
  "metadata": {
    "colab": {
      "provenance": []
    },
    "kernelspec": {
      "name": "python3",
      "display_name": "Python 3"
    },
    "language_info": {
      "name": "python"
    }
  },
  "cells": [
    {
      "cell_type": "code",
      "source": [
        "import numpy as np"
      ],
      "metadata": {
        "id": "Y9-TEc0OF-m3"
      },
      "execution_count": null,
      "outputs": []
    },
    {
      "cell_type": "code",
      "source": [
        "x = [0, 1, 2, 3, 4, 5, 6, 7, 8, 9]\n",
        "y = [1, 3, 2, 5, 7, 8, 8, 9, 10, 12]"
      ],
      "metadata": {
        "id": "Yy8vS6-KGBkI"
      },
      "execution_count": null,
      "outputs": []
    },
    {
      "cell_type": "code",
      "source": [
        "x = np.array(x)\n",
        "y = np.array(y)"
      ],
      "metadata": {
        "id": "xFnGQtgJGFOd"
      },
      "execution_count": null,
      "outputs": []
    },
    {
      "cell_type": "code",
      "source": [
        "x_mean = np.mean(x)\n",
        "y_mean = np.mean(y)"
      ],
      "metadata": {
        "id": "QiRtH3kmGHvD"
      },
      "execution_count": null,
      "outputs": []
    },
    {
      "cell_type": "code",
      "source": [
        "numerator = 0\n",
        "denominator = 0\n",
        "for i in range(len(x)):\n",
        "    numerator += (x[i] - x_mean) * (y[i] - y_mean)\n",
        "    denominator += (x[i] - x_mean) ** 2\n",
        "\n",
        "b1 = numerator / denominator\n",
        "b0 = y_mean - (b1 * x_mean)\n"
      ],
      "metadata": {
        "id": "fw0C5i7jGJ_z"
      },
      "execution_count": null,
      "outputs": []
    },
    {
      "cell_type": "code",
      "source": [
        "print(\"Regression Coefficients:\")\n",
        "print(\"b0 =\", b0)\n",
        "print(\"b1 =\", b1)\n",
        "\n"
      ],
      "metadata": {
        "colab": {
          "base_uri": "https://localhost:8080/"
        },
        "id": "dokseKsXGNlY",
        "outputId": "2f16599e-f526-407f-97f3-f581edbceb55"
      },
      "execution_count": null,
      "outputs": [
        {
          "output_type": "stream",
          "name": "stdout",
          "text": [
            "Regression Coefficients:\n",
            "b0 = 1.2363636363636363\n",
            "b1 = 1.1696969696969697\n"
          ]
        }
      ]
    },
    {
      "cell_type": "code",
      "source": [
        "y_pred = b0 + b1 * x"
      ],
      "metadata": {
        "id": "CN9j-7PIGQaC"
      },
      "execution_count": null,
      "outputs": []
    },
    {
      "cell_type": "code",
      "source": [
        "sse = np.sum((y - y_pred) ** 2)\n",
        "print(\"Sum Squared Error (SSE):\", sse)\n"
      ],
      "metadata": {
        "colab": {
          "base_uri": "https://localhost:8080/"
        },
        "id": "jm9SzJ4AGTYJ",
        "outputId": "5cf476a4-5e28-41d9-c7ff-f9b19f691194"
      },
      "execution_count": null,
      "outputs": [
        {
          "output_type": "stream",
          "name": "stdout",
          "text": [
            "Sum Squared Error (SSE): 5.624242424242423\n"
          ]
        }
      ]
    },
    {
      "cell_type": "code",
      "source": [
        "sst = np.sum((y - y_mean) ** 2)\n",
        "r_squared = 1 - (sse / sst)\n",
        "print(\"R-squared value:\", r_squared)"
      ],
      "metadata": {
        "colab": {
          "base_uri": "https://localhost:8080/"
        },
        "id": "gUA1TgzwGV2s",
        "outputId": "cce194cf-8d60-4602-d9f3-63f069d123fe"
      },
      "execution_count": null,
      "outputs": [
        {
          "output_type": "stream",
          "name": "stdout",
          "text": [
            "R-squared value: 0.952538038613988\n"
          ]
        }
      ]
    },
    {
      "cell_type": "code",
      "source": [
        "learning_rate = 0.01"
      ],
      "metadata": {
        "id": "RBFPVuL2GYnp"
      },
      "execution_count": null,
      "outputs": []
    },
    {
      "cell_type": "code",
      "source": [
        "num_iterations = 1000"
      ],
      "metadata": {
        "id": "MEXWnE39GcUL"
      },
      "execution_count": null,
      "outputs": []
    },
    {
      "cell_type": "code",
      "source": [
        "b0_gd = 0\n",
        "b1_gd = 0\n"
      ],
      "metadata": {
        "id": "fvorUDSUGesc"
      },
      "execution_count": null,
      "outputs": []
    },
    {
      "cell_type": "code",
      "source": [
        "for i in range(num_iterations):\n",
        "    y_pred_gd = b0_gd + b1_gd * x\n",
        "    error = y - y_pred_gd\n",
        "    b0_gd = b0_gd - learning_rate * np.sum(error) * (-2 / len(x))\n",
        "    b1_gd = b1_gd - learning_rate * np.sum(error * (-2 * x) / len(x))\n"
      ],
      "metadata": {
        "id": "W3EirXp7GhAt"
      },
      "execution_count": null,
      "outputs": []
    },
    {
      "cell_type": "code",
      "source": [
        "print(\"Full-batch Gradient Descent:\")\n",
        "print(\"b0 =\", b0_gd)\n",
        "print(\"b1 =\", b1_gd)\n"
      ],
      "metadata": {
        "colab": {
          "base_uri": "https://localhost:8080/"
        },
        "id": "rB__KNpFGjum",
        "outputId": "f69da624-a2e6-461e-d84e-dca4f2a932cd"
      },
      "execution_count": null,
      "outputs": [
        {
          "output_type": "stream",
          "name": "stdout",
          "text": [
            "Full-batch Gradient Descent:\n",
            "b0 = 1.2328099487610318\n",
            "b1 = 1.170263693076768\n"
          ]
        }
      ]
    },
    {
      "cell_type": "code",
      "source": [
        "b0_sgd = 0\n",
        "b1_sgd = 0\n",
        "for i in range(num_iterations):\n",
        "    for j in range(len(x)):\n",
        "        y_pred_sgd = b0_sgd + b1_sgd * x[j]\n",
        "        error_sgd = y[j] - y_pred_sgd\n",
        "        b0_sgd = b0_sgd - learning_rate * error_sgd * (-2)\n",
        "        b1_sgd = b1_sgd - learning_rate * error_sgd * (-2 * x[j])\n",
        "\n",
        "print(\"Stochastic Gradient Descent:\")\n",
        "print(\"b0 =\", b0_sgd)\n",
        "print(\"b1 =\", b1_sgd)\n"
      ],
      "metadata": {
        "colab": {
          "base_uri": "https://localhost:8080/"
        },
        "id": "1BaAuxeWGmR2",
        "outputId": "22ff5a5e-1ead-454a-8d84-72ab8ae1d819"
      },
      "execution_count": null,
      "outputs": [
        {
          "output_type": "stream",
          "name": "stdout",
          "text": [
            "Stochastic Gradient Descent:\n",
            "b0 = 0.8967040680508923\n",
            "b1 = 1.2986755729435908\n"
          ]
        }
      ]
    },
    {
      "cell_type": "code",
      "source": [
        "import numpy as np\n",
        "import pandas as pd\n",
        "from sklearn.model_selection import train_test_split\n",
        "from sklearn.preprocessing import StandardScaler\n",
        "import matplotlib.pyplot as plt\n"
      ],
      "metadata": {
        "id": "c2iWy9ymo7By"
      },
      "execution_count": null,
      "outputs": []
    },
    {
      "cell_type": "code",
      "source": [
        "data_url = \"http://lib.stat.cmu.edu/datasets/boston\"\n",
        "raw_df = pd.read_csv(data_url, sep=\"\\s+\", skiprows=22, header=None)\n",
        "data = np.hstack([raw_df.values[::2, :], raw_df.values[1::2, :2]])\n"
      ],
      "metadata": {
        "id": "9pyJDsuDywu4"
      },
      "execution_count": null,
      "outputs": []
    },
    {
      "cell_type": "code",
      "source": [
        "target = raw_df.values[1::2, 2]"
      ],
      "metadata": {
        "id": "OJySxpOzy0b-"
      },
      "execution_count": null,
      "outputs": []
    },
    {
      "cell_type": "code",
      "source": [
        "df = pd.DataFrame(data=data, columns=['CRIM', 'ZN', 'INDUS', 'CHAS', 'NOX', 'RM', 'AGE', 'DIS', 'RAD', 'TAX', 'PTRATIO', 'B', 'LSTAT'])\n",
        "df['PRICE'] = target"
      ],
      "metadata": {
        "id": "UVBwVO7iy5aZ"
      },
      "execution_count": null,
      "outputs": []
    },
    {
      "cell_type": "code",
      "source": [
        "correlation_matrix = df.corr()\n",
        "print(\"Correlation Matrix:\\n\", correlation_matrix['PRICE'])"
      ],
      "metadata": {
        "colab": {
          "base_uri": "https://localhost:8080/"
        },
        "id": "xZDySnB4y_DX",
        "outputId": "de0fc40a-3b48-4b6b-a4fd-21afab1370f1"
      },
      "execution_count": null,
      "outputs": [
        {
          "output_type": "stream",
          "name": "stdout",
          "text": [
            "Correlation Matrix:\n",
            " CRIM      -0.388305\n",
            "ZN         0.360445\n",
            "INDUS     -0.483725\n",
            "CHAS       0.175260\n",
            "NOX       -0.427321\n",
            "RM         0.695360\n",
            "AGE       -0.376955\n",
            "DIS        0.249929\n",
            "RAD       -0.381626\n",
            "TAX       -0.468536\n",
            "PTRATIO   -0.507787\n",
            "B          0.333461\n",
            "LSTAT     -0.737663\n",
            "PRICE      1.000000\n",
            "Name: PRICE, dtype: float64\n"
          ]
        }
      ]
    },
    {
      "cell_type": "code",
      "source": [
        "best_attribute = correlation_matrix['PRICE'].idxmax(axis=0)\n",
        "print(f\"The attribute with the highest correlation with PRICE is: {best_attribute}\")"
      ],
      "metadata": {
        "colab": {
          "base_uri": "https://localhost:8080/"
        },
        "id": "Mg6t4XTCzGDk",
        "outputId": "8a44f0f8-f70e-4f6e-8d31-0f3904d7eba1"
      },
      "execution_count": null,
      "outputs": [
        {
          "output_type": "stream",
          "name": "stdout",
          "text": [
            "The attribute with the highest correlation with PRICE is: PRICE\n"
          ]
        }
      ]
    },
    {
      "cell_type": "code",
      "source": [
        "X = df[[best_attribute]].values\n",
        "y = df['PRICE'].values\n",
        "X_train, X_test, y_train, y_test = train_test_split(X, y, test_size=0.4, random_state=1)"
      ],
      "metadata": {
        "id": "UHXwB4_szNpk"
      },
      "execution_count": null,
      "outputs": []
    },
    {
      "cell_type": "code",
      "source": [
        "scaler = StandardScaler()\n",
        "X_train_scaled = scaler.fit_transform(X_train)\n",
        "X_test_scaled = scaler.transform(X_test)"
      ],
      "metadata": {
        "id": "i4X8bs3CzWs5"
      },
      "execution_count": null,
      "outputs": []
    },
    {
      "cell_type": "code",
      "source": [
        "X_train_mean = np.mean(X_train_scaled)\n",
        "y_train_mean = np.mean(y_train)"
      ],
      "metadata": {
        "id": "dlZ_6e5fzkbn"
      },
      "execution_count": null,
      "outputs": []
    },
    {
      "cell_type": "code",
      "source": [
        "numerator = np.sum((X_train_scaled - X_train_mean) * (y_train - y_train_mean))\n",
        "denominator = np.sum((X_train_scaled - X_train_mean) ** 2)\n",
        "beta_1_analytic = numerator / denominator\n",
        "beta_0_analytic = y_train_mean - beta_1_analytic * X_train_mean\n"
      ],
      "metadata": {
        "id": "JgNtsxRdz2rZ"
      },
      "execution_count": null,
      "outputs": []
    },
    {
      "cell_type": "code",
      "source": [
        "y_pred_analytic = beta_0_analytic + beta_1_analytic * X_test_scaled"
      ],
      "metadata": {
        "id": "IRHhX6Mnz9uF"
      },
      "execution_count": null,
      "outputs": []
    },
    {
      "cell_type": "code",
      "source": [
        "SSE_analytic = np.sum((y_test - y_pred_analytic) ** 2)\n",
        "SST = np.sum((y_test - np.mean(y_test)) ** 2)\n",
        "R2_analytic = 1 - SSE_analytic / SST"
      ],
      "metadata": {
        "id": "mOuV5Spj0g82"
      },
      "execution_count": null,
      "outputs": []
    },
    {
      "cell_type": "code",
      "source": [
        "print(\"Analytic Solution:\")\n",
        "print(f\"Beta 0 (Intercept): {beta_0_analytic}\")\n",
        "print(f\"Beta 1 (Slope): {beta_1_analytic}\")\n",
        "print(f\"SSE: {SSE_analytic}\")\n",
        "print(f\"R^2: {R2_analytic}\")"
      ],
      "metadata": {
        "colab": {
          "base_uri": "https://localhost:8080/"
        },
        "id": "8znr1-ic0lZz",
        "outputId": "afbe7d12-f9e5-42d2-d78b-170c35b603c1"
      },
      "execution_count": null,
      "outputs": [
        {
          "output_type": "stream",
          "name": "stdout",
          "text": [
            "Analytic Solution:\n",
            "Beta 0 (Intercept): 22.112541254125414\n",
            "Beta 1 (Slope): 2.743679870756823e-15\n",
            "SSE: 3766919.597054973\n",
            "R^2: -204.4666217372155\n"
          ]
        }
      ]
    },
    {
      "cell_type": "code",
      "source": [
        "beta_0_gd = 0\n",
        "beta_1_gd = 0\n",
        "alpha = 0.01\n",
        "epochs = 1000"
      ],
      "metadata": {
        "id": "8LlNTEuz0poZ"
      },
      "execution_count": null,
      "outputs": []
    },
    {
      "cell_type": "code",
      "source": [
        "for epoch in range(epochs):\n",
        "    y_pred_gd = beta_0_gd + beta_1_gd * X_train_scaled\n",
        "    error = y_pred_gd - y_train\n",
        "    beta_0_gd -= alpha * (1/len(y_train)) * np.sum(error)\n",
        "    beta_1_gd -= alpha * (1/len(y_train)) * np.sum(error * X_train_scaled)"
      ],
      "metadata": {
        "colab": {
          "base_uri": "https://localhost:8080/"
        },
        "id": "HlAiruzO0xvf",
        "outputId": "db0ecf88-d0a0-4b42-d791-9036f9588fa4"
      },
      "execution_count": null,
      "outputs": [
        {
          "output_type": "stream",
          "name": "stderr",
          "text": [
            "/usr/local/lib/python3.10/dist-packages/numpy/core/fromnumeric.py:88: RuntimeWarning: overflow encountered in reduce\n",
            "  return ufunc.reduce(obj, axis, dtype, out, **passkwargs)\n",
            "<ipython-input-15-54246ce985b7>:4: RuntimeWarning: invalid value encountered in scalar subtract\n",
            "  beta_0_gd -= alpha * (1/len(y_train)) * np.sum(error)\n",
            "/usr/local/lib/python3.10/dist-packages/numpy/core/fromnumeric.py:88: RuntimeWarning: invalid value encountered in reduce\n",
            "  return ufunc.reduce(obj, axis, dtype, out, **passkwargs)\n"
          ]
        }
      ]
    },
    {
      "cell_type": "code",
      "source": [
        "y_pred_gd_test = beta_0_gd + beta_1_gd * X_test_scaled"
      ],
      "metadata": {
        "id": "E6JI8dkv08G1"
      },
      "execution_count": null,
      "outputs": []
    },
    {
      "cell_type": "code",
      "source": [
        "SSE_gd = np.sum((y_test - y_pred_gd_test) ** 2)\n",
        "R2_gd = 1 - SSE_gd / SST"
      ],
      "metadata": {
        "id": "ESrH8SIm1CWS"
      },
      "execution_count": null,
      "outputs": []
    },
    {
      "cell_type": "code",
      "source": [
        "print(\"\\nGradient Descent Solution:\")\n",
        "print(f\"Beta 0 (Intercept): {beta_0_gd}\")\n",
        "print(f\"Beta 1 (Slope): {beta_1_gd}\")\n",
        "print(f\"SSE: {SSE_gd}\")\n",
        "print(f\"R^2: {R2_gd}\")"
      ],
      "metadata": {
        "colab": {
          "base_uri": "https://localhost:8080/"
        },
        "id": "JlVwqAv11Kyc",
        "outputId": "99ae2bf1-ac79-4f38-9d2b-020f6531bf00"
      },
      "execution_count": null,
      "outputs": [
        {
          "output_type": "stream",
          "name": "stdout",
          "text": [
            "\n",
            "Gradient Descent Solution:\n",
            "Beta 0 (Intercept): nan\n",
            "Beta 1 (Slope): nan\n",
            "SSE: nan\n",
            "R^2: nan\n"
          ]
        }
      ]
    },
    {
      "cell_type": "code",
      "source": [
        "plt.scatter(X_test_scaled, y_test, color='blue', label='Test Data')\n",
        "plt.plot(X_test_scaled, y_pred_analytic, color='red', label='Analytic Solution')\n",
        "plt.plot(X_test_scaled, y_pred_gd_test, color='green', linestyle='--', label='Gradient Descent Solution')\n",
        "plt.xlabel(best_attribute)\n",
        "plt.ylabel('PRICE')\n",
        "plt.legend()\n",
        "plt.show()"
      ],
      "metadata": {
        "id": "t_7x5nPV1Rxa",
        "outputId": "df9f88a5-be2c-4f19-fe67-c1652867f074",
        "colab": {
          "base_uri": "https://localhost:8080/",
          "height": 449
        }
      },
      "execution_count": null,
      "outputs": [
        {
          "output_type": "display_data",
          "data": {
            "text/plain": [
              "<Figure size 640x480 with 1 Axes>"
            ],
            "image/png": "[encoded data removed]"
          },
          "metadata": {}
        }
      ]
    }
  ]
}