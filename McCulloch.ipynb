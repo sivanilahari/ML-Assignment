{
  "nbformat": 4,
  "nbformat_minor": 0,
  "metadata": {
    "colab": {
      "provenance": []
    },
    "kernelspec": {
      "name": "python3",
      "display_name": "Python 3"
    },
    "language_info": {
      "name": "python"
    }
  },
  "cells": [
    {
      "cell_type": "code",
      "execution_count": 1,
      "metadata": {
        "id": "JTe_3iCziNXf"
      },
      "outputs": [],
      "source": [
        "from tabulate import tabulate"
      ]
    },
    {
      "cell_type": "markdown",
      "source": [
        "AND Gate"
      ],
      "metadata": {
        "id": "BY-4lgOPjJF0"
      }
    },
    {
      "cell_type": "code",
      "source": [
        "x1 = [0, 0, 1, 1]\n",
        "x2 = [0, 1, 0, 1]\n",
        "w1 = [1, 1, 1, 1]\n",
        "w2 = [1, 1, 1, 1]\n",
        "t = 2\n",
        "print(\"x1    x2    y    w1   w2     Yin     target   \")\n",
        "for i in range(len(x1)):\n",
        "    y = x1[i] & x2[i]\n",
        "    Yin = x1[i] * w1[i] + x2[i] * w2[i]\n",
        "    print(f\"{x1[i]}     {x2[i]}     {y}     {w1[i]}    {w2[i]}     {Yin}         {target}    \")"
      ],
      "metadata": {
        "colab": {
          "base_uri": "https://localhost:8080/"
        },
        "id": "T0jDD_8fiS8c",
        "outputId": "bf1e1688-5cbf-4c6d-dfb6-06009808b6aa"
      },
      "execution_count": 53,
      "outputs": [
        {
          "output_type": "stream",
          "name": "stdout",
          "text": [
            "x1    x2    y    w1   w2     Yin     target   \n",
            "0     0     0     1    1     0         1    \n",
            "0     1     0     1    1     1         1    \n",
            "1     0     0     1    1     1         1    \n",
            "1     1     1     1    1     2         1    \n"
          ]
        }
      ]
    },
    {
      "cell_type": "markdown",
      "source": [
        "OR"
      ],
      "metadata": {
        "id": "wzRl2IDGm_4d"
      }
    },
    {
      "cell_type": "code",
      "source": [
        "x1 = [0, 0, 1, 1]\n",
        "x2 = [0, 1, 0, 1]\n",
        "w1 = [1, 1, 1, 1]\n",
        "w2 = [1, 1, 1, 1]\n",
        "t = 1\n",
        "print(\"x1   x2   Y   w1   w2    Yin    target    \")\n",
        "for i in range(len(x1)):\n",
        "    # Calculate Yin\n",
        "    Yin = x1[i] * w1[i] + x2[i] * w2[i]\n",
        "    O = 1 if Yin >= t else 0\n",
        "    Y = x1[i] | x2[i]\n",
        "    print(f\"{x1[i]}    {x2[i]}    {Y}   {w1[i]}    {w2[i]}      {Yin}       {target}   \")"
      ],
      "metadata": {
        "colab": {
          "base_uri": "https://localhost:8080/"
        },
        "id": "jO4WuR04nDpS",
        "outputId": "90606801-d482-4f86-c0d3-6370ad36c07c"
      },
      "execution_count": 55,
      "outputs": [
        {
          "output_type": "stream",
          "name": "stdout",
          "text": [
            "x1   x2   Y   w1   w2    Yin    target    \n",
            "0    0    0   1    1      0       1   \n",
            "0    1    1   1    1      1       1   \n",
            "1    0    1   1    1      1       1   \n",
            "1    1    1   1    1      2       1   \n"
          ]
        }
      ]
    },
    {
      "cell_type": "markdown",
      "source": [
        "NOT"
      ],
      "metadata": {
        "id": "bcv2GrdlqGAQ"
      }
    },
    {
      "cell_type": "code",
      "source": [
        "x = [0, 1]\n",
        "w = [-1, -1]\n",
        "t = 0\n",
        "print(\"x    Y   w      t     Yin    target   \")\n",
        "for i in range(len(x)):\n",
        "    Yin = x[i] * w[i]\n",
        "    target = 1 if Yin >= t else 0\n",
        "    Y = 1 if x[i] == 0 else 0\n",
        "    print(f\"{x[i]}    {Y}   {w[i]}    {t}      {Yin}       {target}      \")"
      ],
      "metadata": {
        "colab": {
          "base_uri": "https://localhost:8080/"
        },
        "id": "5Mw073hWqKlW",
        "outputId": "17492c2c-9e25-4f84-89e8-f480af5bb0a9"
      },
      "execution_count": 64,
      "outputs": [
        {
          "output_type": "stream",
          "name": "stdout",
          "text": [
            "x    Y   w      t     Yin    target   \n",
            "0    1   -1    0      0       1      \n",
            "1    0   -1    0      -1       0      \n"
          ]
        }
      ]
    },
    {
      "cell_type": "markdown",
      "source": [
        "NAND"
      ],
      "metadata": {
        "id": "RxUgQ71yrvm0"
      }
    },
    {
      "cell_type": "code",
      "source": [
        "x1 = [0, 0, 1, 1]\n",
        "x2 = [0, 1, 0, 1]\n",
        "w1 = [-1, -1, -1, -1]\n",
        "w2 = [-1, -1, -1, -1]\n",
        "t = -2\n",
        "print(\"x1  x2 y  w1  w2   t  Yin  target  \")\n",
        "for i in range(len(x1)):\n",
        "    Yin = x1[i] * w1[i] + x2[i] * w2[i]\n",
        "    target = 1 if Yin > t else 0\n",
        "    y = 0 if x1[i] & x2[i] else 1\n",
        "    print(f\"{x1[i]}   {x2[i]}  {y}  {w1[i]}  {w2[i]}  {t}   {Yin}   {target}   \")"
      ],
      "metadata": {
        "colab": {
          "base_uri": "https://localhost:8080/"
        },
        "id": "GIOVc0Ayr3Z-",
        "outputId": "e39a618c-e335-431d-ca42-32854588e52a"
      },
      "execution_count": 70,
      "outputs": [
        {
          "output_type": "stream",
          "name": "stdout",
          "text": [
            "x1  x2 y  w1  w2   t  Yin  target  \n",
            "0   0  1  -1  -1  -2   0   1   \n",
            "0   1  1  -1  -1  -2   -1   1   \n",
            "1   0  1  -1  -1  -2   -1   1   \n",
            "1   1  0  -1  -1  -2   -2   0   \n"
          ]
        }
      ]
    },
    {
      "cell_type": "markdown",
      "source": [
        "NOR"
      ],
      "metadata": {
        "id": "cDTfXBqHsalP"
      }
    },
    {
      "cell_type": "code",
      "source": [
        "x1 = [0, 0, 1, 1]\n",
        "x2 = [0, 1, 0, 1]\n",
        "w1 = [1, 1, 1, 1]\n",
        "w2 = [1, 1, 1, 1]\n",
        "t = 0\n",
        "print(\"x1  x2 y  w1  w2  t  Yin  target  \")\n",
        "for i in range(len(x1)):\n",
        "    Yin = x1[i] * w1[i] + x2[i] * w2[i]\n",
        "    target = 1 if Yin <= t else 0\n",
        "    y = 1 if not (x1[i] or x2[i]) else 0\n",
        "    print(f\"{x1[i]}   {x2[i]}   {y}  {w1[i]}   {w2[i]}   {t}   {Yin}   {target}   \")"
      ],
      "metadata": {
        "colab": {
          "base_uri": "https://localhost:8080/"
        },
        "id": "WrHBgYabsdbW",
        "outputId": "c9824abb-02d3-442e-9512-5dbb0389596c"
      },
      "execution_count": 72,
      "outputs": [
        {
          "output_type": "stream",
          "name": "stdout",
          "text": [
            "x1  x2 y  w1  w2  t  Yin  target  \n",
            "0   0   1  1   1   0   0   1   \n",
            "0   1   0  1   1   0   1   0   \n",
            "1   0   0  1   1   0   1   0   \n",
            "1   1   0  1   1   0   2   0   \n"
          ]
        }
      ]
    },
    {
      "cell_type": "markdown",
      "source": [
        "XOR"
      ],
      "metadata": {
        "id": "qe4_bdGNt-To"
      }
    },
    {
      "cell_type": "code",
      "source": [
        "x1 = [0, 0, 1, 1]\n",
        "x2 = [0, 1, 0, 1]\n",
        "w1 = [1, 1, 1, 1]\n",
        "w2 = [1, 1, 1, 1]\n",
        "w3 = [1, 1, 1, 1]\n",
        "w4 = [-1, -1, -1, -1]\n",
        "w5 = [-1, -1, -1, -1]\n",
        "w6 = [1, 1, 1, 1]\n",
        "t1 = [0.5,0.5,0.5,0.5]\n",
        "t2 = [-1.5,-1.5,-1.5,-1.5]\n",
        "t3 = [1.5,1.5,1.5,1.5]\n",
        "def XOR (a, b):\n",
        "    if a != b:\n",
        "        return 1\n",
        "    else:\n",
        "        return 0\n",
        "print('x1    x2    w1    w2    w3     w4    w5     w6    t1        t2      t3     O')\n",
        "for i in range(len(x1)):\n",
        "    print(x1[i],'   ',x2[i],'   ',w1[i],'   ',w2[i],'   ',w3[i],'   ',w4[i],'   ',w5[i],'   ',w6[i],'   ',t1[i],'   ',t2[i],'   ',t3[i],'   ',XOR(x1[i],x2[i]))"
      ],
      "metadata": {
        "colab": {
          "base_uri": "https://localhost:8080/"
        },
        "id": "0IOHFBDvuFJV",
        "outputId": "e665bd46-b1b8-4d00-c214-2a1fb4a4bf8a"
      },
      "execution_count": 73,
      "outputs": [
        {
          "output_type": "stream",
          "name": "stdout",
          "text": [
            "x1    x2    w1    w2    w3     w4    w5     w6    t1        t2      t3     O\n",
            "0     0     1     1     1     -1     -1     1     0.5     -1.5     1.5     0\n",
            "0     1     1     1     1     -1     -1     1     0.5     -1.5     1.5     1\n",
            "1     0     1     1     1     -1     -1     1     0.5     -1.5     1.5     1\n",
            "1     1     1     1     1     -1     -1     1     0.5     -1.5     1.5     0\n"
          ]
        }
      ]
    },
    {
      "cell_type": "markdown",
      "source": [],
      "metadata": {
        "id": "akkXaJ0_uJXJ"
      }
    }
  ]
}