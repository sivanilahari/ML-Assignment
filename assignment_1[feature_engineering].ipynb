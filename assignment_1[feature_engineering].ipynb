{
  "nbformat": 4,
  "nbformat_minor": 0,
  "metadata": {
    "colab": {
      "provenance": []
    },
    "kernelspec": {
      "name": "python3",
      "display_name": "Python 3"
    },
    "language_info": {
      "name": "python"
    }
  },
  "cells": [
    {
      "cell_type": "code",
      "execution_count": null,
      "metadata": {
        "colab": {
          "base_uri": "https://localhost:8080/"
        },
        "id": "Hvg45aO7I7bC",
        "outputId": "2f85724b-9dee-47da-c812-7c6d614616b9"
      },
      "outputs": [
        {
          "output_type": "stream",
          "name": "stdout",
          "text": [
            "Mean: 2.0\n",
            "Variance: 2.5\n"
          ]
        }
      ],
      "source": [
        "import numpy as np\n",
        "\n",
        "def calculate_mean_and_variance(data):\n",
        "  mean = np.mean(data)\n",
        "  variance = np.var(data, ddof=1)\n",
        "  return mean, variance\n",
        "\n",
        "data = np.array([0, 1, 2, 3, 4])\n",
        "mean, variance = calculate_mean_and_variance(data)\n",
        "print(\"Mean:\", mean)\n",
        "print(\"Variance:\", variance)"
      ]
    },
    {
      "cell_type": "code",
      "source": [
        "import numpy as np\n",
        "\n",
        "def compute_covariance(x, y):\n",
        "  if len(x) != len(y):\n",
        "    raise ValueError(\"Give the same length vectors.\")\n",
        "\n",
        "  x_mean = np.mean(x)\n",
        "  y_mean = np.mean(y)\n",
        "\n",
        "  covariance = np.sum((x - x_mean) * (y - y_mean)) / (len(x) - 1)\n",
        "\n",
        "  return covariance\n",
        "\n",
        "x = np.array([1, 3, 5, 7, 9])\n",
        "y = np.array([2, 4, 6, 8, 10])\n",
        "\n",
        "covariance = compute_covariance(x, y)\n",
        "print(covariance)"
      ],
      "metadata": {
        "colab": {
          "base_uri": "https://localhost:8080/"
        },
        "id": "4iNdXVq3JLyK",
        "outputId": "b5eae668-3967-4891-b439-7b058fb0749c"
      },
      "execution_count": null,
      "outputs": [
        {
          "output_type": "stream",
          "name": "stdout",
          "text": [
            "10.0\n"
          ]
        }
      ]
    },
    {
      "cell_type": "code",
      "source": [
        "import numpy as np\n",
        "\n",
        "def compute_correlation(x, y):\n",
        "  covariance = np.cov(x, y)[0, 1]\n",
        "  variance_x = np.var(x)\n",
        "  variance_y = np.var(y)\n",
        "  correlation = covariance / np.sqrt(variance_x * variance_y)\n",
        "  return correlation\n",
        "\n",
        "x = np.array([1, 3, 7, 9, 11])\n",
        "y = np.array([2, 4, 6, 8, 10])\n",
        "\n",
        "correlation = compute_correlation(x, y)\n",
        "print(correlation)"
      ],
      "metadata": {
        "colab": {
          "base_uri": "https://localhost:8080/"
        },
        "id": "lj7860I5JWN6",
        "outputId": "54dc18c6-f049-46f5-fcb2-a738d2c4b7d9"
      },
      "execution_count": null,
      "outputs": [
        {
          "output_type": "stream",
          "name": "stdout",
          "text": [
            "1.239050883952413\n"
          ]
        }
      ]
    },
    {
      "cell_type": "code",
      "source": [
        "import numpy as np\n",
        "\n",
        "M = 5\n",
        "N = 10\n",
        "X = np.random.randn(M, N)\n",
        "\n",
        "covariance_matrix = np.cov(X)\n",
        "correlation_matrix = np.corrcoef(X)\n",
        "\n",
        "print(covariance_matrix)\n",
        "print(correlation_matrix)"
      ],
      "metadata": {
        "colab": {
          "base_uri": "https://localhost:8080/"
        },
        "id": "r_3NoLwkJZxK",
        "outputId": "f609e34e-a6b2-4d01-cf75-d1facd5625cd"
      },
      "execution_count": null,
      "outputs": [
        {
          "output_type": "stream",
          "name": "stdout",
          "text": [
            "[[ 0.66392053 -0.15330855 -0.31393988  0.07050263  0.00965261]\n",
            " [-0.15330855  0.32611754 -0.15252554  0.04936483  0.03927783]\n",
            " [-0.31393988 -0.15252554  0.86483385  0.10498058  0.08043601]\n",
            " [ 0.07050263  0.04936483  0.10498058  1.00548043  0.63274366]\n",
            " [ 0.00965261  0.03927783  0.08043601  0.63274366  1.87369274]]\n",
            "[[ 1.         -0.32947408 -0.41430683  0.08629     0.00865441]\n",
            " [-0.32947408  1.         -0.28720312  0.08620724  0.05024713]\n",
            " [-0.41430683 -0.28720312  1.          0.11257859  0.06318805]\n",
            " [ 0.08629     0.08620724  0.11257859  1.          0.46099032]\n",
            " [ 0.00865441  0.05024713  0.06318805  0.46099032  1.        ]]\n"
          ]
        }
      ]
    },
    {
      "cell_type": "code",
      "source": [],
      "metadata": {
        "id": "bQGfa9ViJcpK"
      },
      "execution_count": null,
      "outputs": []
    }
  ]
}