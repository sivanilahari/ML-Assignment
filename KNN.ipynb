{
  "nbformat": 4,
  "nbformat_minor": 0,
  "metadata": {
    "colab": {
      "provenance": []
    },
    "kernelspec": {
      "name": "python3",
      "display_name": "Python 3"
    },
    "language_info": {
      "name": "python"
    }
  },
  "cells": [
    {
      "cell_type": "code",
      "source": [
        "import numpy as np\n",
        "import matplotlib.pyplot as plt\n",
        "from collections import Counter\n",
        "from sklearn.model_selection import train_test_split\n",
        "from sklearn.metrics import confusion_matrix, accuracy_score\n",
        "import pandas as pd\n",
        "from sklearn.preprocessing import LabelEncoder"
      ],
      "metadata": {
        "id": "k5yatUYomo-o"
      },
      "execution_count": 19,
      "outputs": []
    },
    {
      "cell_type": "code",
      "source": [
        "data = pd.read_csv('User_Data.csv')\n",
        "print(data)"
      ],
      "metadata": {
        "colab": {
          "base_uri": "https://localhost:8080/"
        },
        "id": "uD8-hjBum8x8",
        "outputId": "6eab2254-85e4-4dac-c3d7-cad5d5fdcb2e"
      },
      "execution_count": 20,
      "outputs": [
        {
          "output_type": "stream",
          "name": "stdout",
          "text": [
            "      User ID  Gender  Age  EstimatedSalary  Purchased\n",
            "0    15624510    Male   19            19000          0\n",
            "1    15810944    Male   35            20000          0\n",
            "2    15668575  Female   26            43000          0\n",
            "3    15603246  Female   27            57000          0\n",
            "4    15804002    Male   19            76000          0\n",
            "..        ...     ...  ...              ...        ...\n",
            "395  15691863  Female   46            41000          1\n",
            "396  15706071    Male   51            23000          1\n",
            "397  15654296  Female   50            20000          1\n",
            "398  15755018    Male   36            33000          0\n",
            "399  15594041  Female   49            36000          1\n",
            "\n",
            "[400 rows x 5 columns]\n"
          ]
        }
      ]
    },
    {
      "cell_type": "code",
      "source": [
        "label_encoders = {}\n",
        "for column in data.columns:\n",
        "    if data[column].dtype == 'object':\n",
        "        le = LabelEncoder()\n",
        "        data[column] = le.fit_transform(data[column])\n",
        "        label_encoders[column] = le"
      ],
      "metadata": {
        "id": "9aSoH5csnCbF"
      },
      "execution_count": 21,
      "outputs": []
    },
    {
      "cell_type": "code",
      "source": [
        "X = data.iloc[:, :-1].values\n",
        "y = data.iloc[:, -1].values"
      ],
      "metadata": {
        "id": "gX4XLjB1nG8E"
      },
      "execution_count": 22,
      "outputs": []
    },
    {
      "cell_type": "code",
      "source": [
        "X_train, X_test, y_train, y_test = train_test_split(X, y, test_size=0.2, random_state=42)"
      ],
      "metadata": {
        "id": "3yRB7QnvnLjG"
      },
      "execution_count": 23,
      "outputs": []
    },
    {
      "cell_type": "code",
      "source": [
        "def calc_distance(a, b):\n",
        "    return np.sqrt(np.sum((a - b) ** 2))"
      ],
      "metadata": {
        "id": "kwbxsYVDnPjn"
      },
      "execution_count": 24,
      "outputs": []
    },
    {
      "cell_type": "code",
      "source": [
        "def k_nearest_neighbors(train_features, train_labels, test_features, k):\n",
        "    preds = []\n",
        "    for test_instance in test_features:\n",
        "        distances = [calc_distance(test_instance, train_instance) for train_instance in train_features]\n",
        "        nearest_indices = np.argsort(distances)[:k]\n",
        "        nearest_labels = [train_labels[i] for i in nearest_indices]\n",
        "        most_common = Counter(nearest_labels).most_common(1)\n",
        "        preds.append(most_common[0][0])\n",
        "    return preds"
      ],
      "metadata": {
        "id": "P1e2xye-nTaj"
      },
      "execution_count": 25,
      "outputs": []
    },
    {
      "cell_type": "code",
      "source": [
        "def test_knn(k_list):\n",
        "    accuracy_results = []\n",
        "    for k in k_list:\n",
        "        y_predictions = k_nearest_neighbors(X_train, y_train, X_test, k)\n",
        "        acc = accuracy_score(y_test, y_predictions)\n",
        "        accuracy_results.append(acc)\n",
        "        print(f\"K={k}, Accuracy={acc * 100:.2f}%\")\n",
        "    return accuracy_results"
      ],
      "metadata": {
        "id": "m97-ZvR8nZ1H"
      },
      "execution_count": 26,
      "outputs": []
    },
    {
      "cell_type": "code",
      "source": [
        "k_list = range(1, 21)"
      ],
      "metadata": {
        "id": "NikjwLmjnepN"
      },
      "execution_count": 27,
      "outputs": []
    },
    {
      "cell_type": "code",
      "source": [
        "acc_list = test_knn(k_list)"
      ],
      "metadata": {
        "colab": {
          "base_uri": "https://localhost:8080/"
        },
        "id": "stOPx2q_njiI",
        "outputId": "3ec0a574-1161-4486-dcbf-448aac1b817d"
      },
      "execution_count": 28,
      "outputs": [
        {
          "output_type": "stream",
          "name": "stdout",
          "text": [
            "K=1, Accuracy=62.50%\n",
            "K=2, Accuracy=62.50%\n",
            "K=3, Accuracy=71.25%\n",
            "K=4, Accuracy=67.50%\n",
            "K=5, Accuracy=72.50%\n",
            "K=6, Accuracy=73.75%\n",
            "K=7, Accuracy=73.75%\n",
            "K=8, Accuracy=73.75%\n",
            "K=9, Accuracy=75.00%\n",
            "K=10, Accuracy=75.00%\n",
            "K=11, Accuracy=73.75%\n",
            "K=12, Accuracy=73.75%\n",
            "K=13, Accuracy=72.50%\n",
            "K=14, Accuracy=72.50%\n",
            "K=15, Accuracy=72.50%\n",
            "K=16, Accuracy=72.50%\n",
            "K=17, Accuracy=72.50%\n",
            "K=18, Accuracy=72.50%\n",
            "K=19, Accuracy=72.50%\n",
            "K=20, Accuracy=72.50%\n"
          ]
        }
      ]
    },
    {
      "cell_type": "code",
      "source": [
        "plt.figure(figsize=(10, 6))\n",
        "plt.plot(k_list, acc_list, marker='o')\n",
        "plt.title(\"K vs Accuracy\")\n",
        "plt.xlabel(\"K\")\n",
        "plt.ylabel(\"Accuracy\")\n",
        "plt.xticks(k_list)\n",
        "plt.grid(True)\n",
        "plt.show()"
      ],
      "metadata": {
        "colab": {
          "base_uri": "https://localhost:8080/",
          "height": 564
        },
        "id": "5Ul1bzOhnoF1",
        "outputId": "a07ac96d-92f9-4b04-d6a6-a46d9d0a61bc"
      },
      "execution_count": 29,
      "outputs": [
        {
          "output_type": "display_data",
          "data": {
            "text/plain": [
              "<Figure size 1000x600 with 1 Axes>"
            ],
            "image/png": "[encoded data removed]"
          },
          "metadata": {}
        }
      ]
    },
    {
      "cell_type": "code",
      "source": [
        "optimal_k = k_list[np.argmax(acc_list)]\n",
        "y_pred_optimal_k = k_nearest_neighbors(X_train, y_train, X_test, optimal_k)\n",
        "conf_matrix = confusion_matrix(y_test, y_pred_optimal_k)\n",
        "best_accuracy = accuracy_score(y_test, y_pred_optimal_k)"
      ],
      "metadata": {
        "id": "cuuTBExFnsmZ"
      },
      "execution_count": 30,
      "outputs": []
    },
    {
      "cell_type": "code",
      "source": [
        "conf_matrix, best_accuracy, optimal_k"
      ],
      "metadata": {
        "colab": {
          "base_uri": "https://localhost:8080/"
        },
        "id": "zNjVRQqTnwIc",
        "outputId": "c805129e-2c3e-41b5-be6e-9ddc22f178b4"
      },
      "execution_count": 31,
      "outputs": [
        {
          "output_type": "execute_result",
          "data": {
            "text/plain": [
              "(array([[47,  5],\n",
              "        [15, 13]]),\n",
              " 0.75,\n",
              " 9)"
            ]
          },
          "metadata": {},
          "execution_count": 31
        }
      ]
    }
  ]
}