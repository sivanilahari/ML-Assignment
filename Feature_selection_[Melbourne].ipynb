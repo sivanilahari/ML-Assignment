{
  "cells": [
    {
      "cell_type": "code",
      "source": [
        "from sklearn.model_selection import train_test_split\n",
        "from sklearn.linear_model import LinearRegression\n",
        "from sklearn.ensemble import RandomForestRegressor\n",
        "from sklearn.feature_selection import VarianceThreshold, RFE, SelectFromModel\n",
        "from sklearn.metrics import mean_squared_error\n",
        "import numpy as np\n",
        "import pandas as pd"
      ],
      "metadata": {
        "id": "sppuMowcq8xW"
      },
      "execution_count": null,
      "outputs": []
    },
    {
      "cell_type": "code",
      "source": [
        "melbourne_data = pd.read_csv('melbourne_housing_raw.csv')\n",
        "print(melbourne_data)"
      ],
      "metadata": {
        "colab": {
          "base_uri": "https://localhost:8080/"
        },
        "id": "W5r4GY2xT8Rs",
        "outputId": "25829b4f-87b9-4159-bd78-c4bb6663b1bc"
      },
      "execution_count": null,
      "outputs": [
        {
          "output_type": "stream",
          "name": "stdout",
          "text": [
            "           Suburb  Rooms Type      Price Method        SellerG     Date  \\\n",
            "0      Abbotsford      2    h        NaN     SS         Jellis   3/9/16   \n",
            "1      Abbotsford      2    h  1480000.0      S         Biggin  3/12/16   \n",
            "2      Abbotsford      2    h  1035000.0      S         Biggin   4/2/16   \n",
            "3      Abbotsford      3    u        NaN     VB         Rounds   4/2/16   \n",
            "4      Abbotsford      3    h  1465000.0     SP         Biggin   4/3/17   \n",
            "...           ...    ...  ...        ...    ...            ...      ...   \n",
            "34852  Yarraville      4    h  1480000.0     PI            Jas  24/2/18   \n",
            "34853  Yarraville      2    h   888000.0     SP        Sweeney  24/2/18   \n",
            "34854  Yarraville      2    t   705000.0      S            Jas  24/2/18   \n",
            "34855  Yarraville      3    h  1140000.0     SP  hockingstuart  24/2/18   \n",
            "34856  Yarraville      2    h  1020000.0     PI             RW  24/2/18   \n",
            "\n",
            "       Distance  Postcode  Bedroom2  Bathroom  Car  Landsize  BuildingArea  \\\n",
            "0           2.5    3067.0       2.0       1.0  1.0     126.0           NaN   \n",
            "1           2.5    3067.0       2.0       1.0  1.0     202.0           NaN   \n",
            "2           2.5    3067.0       2.0       1.0  0.0     156.0          79.0   \n",
            "3           2.5    3067.0       3.0       2.0  1.0       0.0           NaN   \n",
            "4           2.5    3067.0       3.0       2.0  0.0     134.0         150.0   \n",
            "...         ...       ...       ...       ...  ...       ...           ...   \n",
            "34852       6.3    3013.0       4.0       1.0  3.0     593.0           NaN   \n",
            "34853       6.3    3013.0       2.0       2.0  1.0      98.0         104.0   \n",
            "34854       6.3    3013.0       2.0       1.0  2.0     220.0         120.0   \n",
            "34855       6.3    3013.0       NaN       NaN  NaN       NaN           NaN   \n",
            "34856       6.3    3013.0       2.0       1.0  0.0     250.0         103.0   \n",
            "\n",
            "       YearBuilt               CouncilArea  Lattitude  Longtitude  \\\n",
            "0            NaN        Yarra City Council  -37.80140   144.99580   \n",
            "1            NaN        Yarra City Council  -37.79960   144.99840   \n",
            "2         1900.0        Yarra City Council  -37.80790   144.99340   \n",
            "3            NaN        Yarra City Council  -37.81140   145.01160   \n",
            "4         1900.0        Yarra City Council  -37.80930   144.99440   \n",
            "...          ...                       ...        ...         ...   \n",
            "34852        NaN  Maribyrnong City Council  -37.81053   144.88467   \n",
            "34853     2018.0  Maribyrnong City Council  -37.81551   144.88826   \n",
            "34854     2000.0  Maribyrnong City Council  -37.82286   144.87856   \n",
            "34855        NaN  Maribyrnong City Council        NaN         NaN   \n",
            "34856     1930.0  Maribyrnong City Council  -37.81810   144.89351   \n",
            "\n",
            "                  Regionname  Propertycount  \n",
            "0      Northern Metropolitan         4019.0  \n",
            "1      Northern Metropolitan         4019.0  \n",
            "2      Northern Metropolitan         4019.0  \n",
            "3      Northern Metropolitan         4019.0  \n",
            "4      Northern Metropolitan         4019.0  \n",
            "...                      ...            ...  \n",
            "34852   Western Metropolitan         6543.0  \n",
            "34853   Western Metropolitan         6543.0  \n",
            "34854   Western Metropolitan         6543.0  \n",
            "34855   Western Metropolitan         6543.0  \n",
            "34856   Western Metropolitan         6543.0  \n",
            "\n",
            "[34857 rows x 20 columns]\n"
          ]
        }
      ]
    },
    {
      "cell_type": "code",
      "source": [
        "missing_percentage = melbourne_data.isnull().mean() * 100\n",
        "columns_to_remove = [col for col in missing_percentage.index if missing_percentage[col] > 20 and col != 'Price']\n",
        "reduced_data = melbourne_data.drop(columns=columns_to_remove)"
      ],
      "metadata": {
        "id": "5gMkwf3KUFby"
      },
      "execution_count": null,
      "outputs": []
    },
    {
      "cell_type": "code",
      "source": [
        "reduced_data = reduced_data.dropna(subset=['Price'])\n",
        "X = reduced_data.drop(columns=['Price', 'Date', 'Suburb', 'Type', 'Method', 'SellerG', 'CouncilArea', 'Regionname'])\n",
        "y = reduced_data['Price']\n",
        "X.fillna(X.mean(), inplace=True)"
      ],
      "metadata": {
        "id": "fRdzf5pjUIIY"
      },
      "execution_count": null,
      "outputs": []
    },
    {
      "cell_type": "code",
      "source": [
        "X_train, X_test, y_train, y_test = train_test_split(X, y, test_size=0.2, random_state=42)"
      ],
      "metadata": {
        "id": "A0fc-dZ0UKub"
      },
      "execution_count": null,
      "outputs": []
    },
    {
      "cell_type": "code",
      "source": [
        "corr_matrix = X_train.corr().abs()"
      ],
      "metadata": {
        "id": "xd3qDrk_UNS2"
      },
      "execution_count": null,
      "outputs": []
    },
    {
      "cell_type": "code",
      "source": [
        "high_corr_pairs = np.where(corr_matrix > 0.85)\n",
        "high_corr_features = set([X_train.columns[i] for i in high_corr_pairs[0] if i != high_corr_pairs[1][i]])"
      ],
      "metadata": {
        "id": "Cjh2QudrUNFs"
      },
      "execution_count": null,
      "outputs": []
    },
    {
      "cell_type": "code",
      "source": [
        "X_train_corr_filtered = X_train.drop(columns=high_corr_features)\n",
        "X_test_corr_filtered = X_test.drop(columns=high_corr_features)"
      ],
      "metadata": {
        "id": "vLqrhDtrURkx"
      },
      "execution_count": null,
      "outputs": []
    },
    {
      "cell_type": "code",
      "source": [
        "variance_filter = VarianceThreshold(threshold=0.01)\n",
        "X_train_low_var = variance_filter.fit_transform(X_train_corr_filtered)\n",
        "X_test_low_var = variance_filter.transform(X_test_corr_filtered)"
      ],
      "metadata": {
        "id": "kkQZ8rqxUUEV"
      },
      "execution_count": null,
      "outputs": []
    },
    {
      "cell_type": "code",
      "source": [
        "linear_model = LinearRegression()\n",
        "rfe_selector = RFE(estimator=linear_model, n_features_to_select=5, step=1)\n",
        "rfe_selector.fit(X_train_low_var, y_train)\n",
        "X_train_forward = rfe_selector.transform(X_train_low_var)\n",
        "X_test_forward = rfe_selector.transform(X_test_low_var)"
      ],
      "metadata": {
        "colab": {
          "base_uri": "https://localhost:8080/"
        },
        "id": "9sayL8RoUWcE",
        "outputId": "852d62a7-fbd3-4d9f-aa89-8c1d5db25071"
      },
      "execution_count": null,
      "outputs": [
        {
          "output_type": "stream",
          "name": "stderr",
          "text": [
            "/usr/local/lib/python3.10/dist-packages/sklearn/feature_selection/_rfe.py:291: UserWarning: Found n_features_to_select=5 > n_features=4. There will be no feature selection and all features will be kept.\n",
            "  warnings.warn(\n"
          ]
        }
      ]
    },
    {
      "cell_type": "code",
      "source": [
        "random_forest_model = RandomForestRegressor(random_state=42)\n",
        "rfe_backward = RFE(estimator=random_forest_model, n_features_to_select=5, step=1)\n",
        "rfe_backward.fit(X_train_low_var, y_train)\n",
        "X_train_backward = rfe_backward.transform(X_train_low_var)\n",
        "X_test_backward = rfe_backward.transform(X_test_low_var)"
      ],
      "metadata": {
        "colab": {
          "base_uri": "https://localhost:8080/"
        },
        "id": "4MNDCy_uUZb_",
        "outputId": "7c985ac1-68a0-4fdf-f00d-19f2746aed2b"
      },
      "execution_count": null,
      "outputs": [
        {
          "output_type": "stream",
          "name": "stderr",
          "text": [
            "/usr/local/lib/python3.10/dist-packages/sklearn/feature_selection/_rfe.py:291: UserWarning: Found n_features_to_select=5 > n_features=4. There will be no feature selection and all features will be kept.\n",
            "  warnings.warn(\n"
          ]
        }
      ]
    },
    {
      "cell_type": "code",
      "source": [
        "rf_model = RandomForestRegressor(random_state=42)\n",
        "rf_model.fit(X_train, y_train)\n",
        "important_features = SelectFromModel(rf_model, threshold=\"mean\", prefit=True)\n",
        "X_train_rf_selected = important_features.transform(X_train)\n",
        "X_test_rf_selected = important_features.transform(X_test)"
      ],
      "metadata": {
        "colab": {
          "base_uri": "https://localhost:8080/"
        },
        "id": "x6dc3_IIUcZt",
        "outputId": "c0322251-ae97-41bc-edb3-364e35bbda28"
      },
      "execution_count": null,
      "outputs": [
        {
          "output_type": "stream",
          "name": "stderr",
          "text": [
            "/usr/local/lib/python3.10/dist-packages/sklearn/base.py:486: UserWarning: X has feature names, but SelectFromModel was fitted without feature names\n",
            "  warnings.warn(\n",
            "/usr/local/lib/python3.10/dist-packages/sklearn/base.py:486: UserWarning: X has feature names, but SelectFromModel was fitted without feature names\n",
            "  warnings.warn(\n"
          ]
        }
      ]
    },
    {
      "cell_type": "code",
      "source": [
        "def evaluate_model(X_train, X_test, y_train, y_test):\n",
        "    model = RandomForestRegressor(random_state=42)\n",
        "    model.fit(X_train, y_train)\n",
        "    predictions = model.predict(X_test)\n",
        "    mse = mean_squared_error(y_test, predictions)\n",
        "    return mse"
      ],
      "metadata": {
        "id": "s3KqVPmSUgJJ"
      },
      "execution_count": null,
      "outputs": []
    },
    {
      "cell_type": "code",
      "source": [
        "output = {\n",
        "    \"Baseline (No Feature Selection)\": evaluate_model(X_train, X_test, y_train, y_test),\n",
        "    \"High Correlation Filter\": evaluate_model(X_train_corr_filtered, X_test_corr_filtered, y_train, y_test),\n",
        "    \"Low Variance Filter\": evaluate_model(X_train_low_var, X_test_low_var, y_train, y_test),\n",
        "    \"Forward Selection\": evaluate_model(X_train_forward, X_test_forward, y_train, y_test),\n",
        "    \"Backward Elimination\": evaluate_model(X_train_backward, X_test_backward, y_train, y_test),\n",
        "    \"Random Forest Selection\": evaluate_model(X_train_rf_selected, X_test_rf_selected, y_train, y_test)\n",
        "}\n",
        "\n",
        "for method, result in output.items():\n",
        "    print(f\"{method}: {result}\")\n"
      ],
      "metadata": {
        "colab": {
          "base_uri": "https://localhost:8080/"
        },
        "id": "98DYUdP7Ui0a",
        "outputId": "a617770a-fdde-4410-9c0d-0c3b650ef1bf"
      },
      "execution_count": null,
      "outputs": [
        {
          "output_type": "stream",
          "name": "stdout",
          "text": [
            "Baseline (No Feature Selection): 143875373039.6255\n",
            "High Correlation Filter: 143875373039.6255\n",
            "Low Variance Filter: 143875373039.6255\n",
            "Forward Selection: 143875373039.6255\n",
            "Backward Elimination: 143875373039.6255\n",
            "Random Forest Selection: 147811757361.13766\n"
          ]
        }
      ]
    }
  ],
  "metadata": {
    "colab": {
      "provenance": []
    },
    "kernelspec": {
      "display_name": "Python 3",
      "name": "python3"
    },
    "language_info": {
      "name": "python"
    }
  },
  "nbformat": 4,
  "nbformat_minor": 0
}