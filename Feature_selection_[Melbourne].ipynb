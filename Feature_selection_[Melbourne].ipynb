{
  "cells": [
    {
      "cell_type": "markdown",
      "metadata": {
        "id": "6WaIx1OKv6_j"
      },
      "source": [
        "Missing Values Ratio"
      ]
    },
    {
      "cell_type": "code",
      "execution_count": null,
      "metadata": {
        "id": "-TNxHAiMxzOs"
      },
      "outputs": [],
      "source": [
        "import pandas as pd\n",
        "from sklearn.model_selection import train_test_split\n",
        "from sklearn.linear_model import LinearRegression\n",
        "from sklearn.metrics import mean_squared_error\n"
      ]
    },
    {
      "cell_type": "code",
      "execution_count": null,
      "metadata": {
        "colab": {
          "base_uri": "https://localhost:8080/"
        },
        "id": "dPwl-LIcyNM6",
        "outputId": "ae148237-7242-43f4-a047-09ab146035f6"
      },
      "outputs": [
        {
          "name": "stdout",
          "output_type": "stream",
          "text": [
            "           Suburb  Rooms Type      Price Method        SellerG     Date  \\\n",
            "0      Abbotsford      2    h        NaN     SS         Jellis   3/9/16   \n",
            "1      Abbotsford      2    h  1480000.0      S         Biggin  3/12/16   \n",
            "2      Abbotsford      2    h  1035000.0      S         Biggin   4/2/16   \n",
            "3      Abbotsford      3    u        NaN     VB         Rounds   4/2/16   \n",
            "4      Abbotsford      3    h  1465000.0     SP         Biggin   4/3/17   \n",
            "...           ...    ...  ...        ...    ...            ...      ...   \n",
            "34852  Yarraville      4    h  1480000.0     PI            Jas  24/2/18   \n",
            "34853  Yarraville      2    h   888000.0     SP        Sweeney  24/2/18   \n",
            "34854  Yarraville      2    t   705000.0      S            Jas  24/2/18   \n",
            "34855  Yarraville      3    h  1140000.0     SP  hockingstuart  24/2/18   \n",
            "34856  Yarraville      2    h  1020000.0     PI             RW  24/2/18   \n",
            "\n",
            "       Distance  Postcode  Bedroom2  Bathroom  Car  Landsize  BuildingArea  \\\n",
            "0           2.5    3067.0       2.0       1.0  1.0     126.0           NaN   \n",
            "1           2.5    3067.0       2.0       1.0  1.0     202.0           NaN   \n",
            "2           2.5    3067.0       2.0       1.0  0.0     156.0          79.0   \n",
            "3           2.5    3067.0       3.0       2.0  1.0       0.0           NaN   \n",
            "4           2.5    3067.0       3.0       2.0  0.0     134.0         150.0   \n",
            "...         ...       ...       ...       ...  ...       ...           ...   \n",
            "34852       6.3    3013.0       4.0       1.0  3.0     593.0           NaN   \n",
            "34853       6.3    3013.0       2.0       2.0  1.0      98.0         104.0   \n",
            "34854       6.3    3013.0       2.0       1.0  2.0     220.0         120.0   \n",
            "34855       6.3    3013.0       NaN       NaN  NaN       NaN           NaN   \n",
            "34856       6.3    3013.0       2.0       1.0  0.0     250.0         103.0   \n",
            "\n",
            "       YearBuilt               CouncilArea  Lattitude  Longtitude  \\\n",
            "0            NaN        Yarra City Council  -37.80140   144.99580   \n",
            "1            NaN        Yarra City Council  -37.79960   144.99840   \n",
            "2         1900.0        Yarra City Council  -37.80790   144.99340   \n",
            "3            NaN        Yarra City Council  -37.81140   145.01160   \n",
            "4         1900.0        Yarra City Council  -37.80930   144.99440   \n",
            "...          ...                       ...        ...         ...   \n",
            "34852        NaN  Maribyrnong City Council  -37.81053   144.88467   \n",
            "34853     2018.0  Maribyrnong City Council  -37.81551   144.88826   \n",
            "34854     2000.0  Maribyrnong City Council  -37.82286   144.87856   \n",
            "34855        NaN  Maribyrnong City Council        NaN         NaN   \n",
            "34856     1930.0  Maribyrnong City Council  -37.81810   144.89351   \n",
            "\n",
            "                  Regionname  Propertycount  \n",
            "0      Northern Metropolitan         4019.0  \n",
            "1      Northern Metropolitan         4019.0  \n",
            "2      Northern Metropolitan         4019.0  \n",
            "3      Northern Metropolitan         4019.0  \n",
            "4      Northern Metropolitan         4019.0  \n",
            "...                      ...            ...  \n",
            "34852   Western Metropolitan         6543.0  \n",
            "34853   Western Metropolitan         6543.0  \n",
            "34854   Western Metropolitan         6543.0  \n",
            "34855   Western Metropolitan         6543.0  \n",
            "34856   Western Metropolitan         6543.0  \n",
            "\n",
            "[34857 rows x 20 columns]\n"
          ]
        }
      ],
      "source": [
        "data = pd.read_csv('melbourne_housing_raw.csv')\n",
        "print(data)"
      ]
    },
    {
      "cell_type": "code",
      "execution_count": null,
      "metadata": {
        "id": "Co6bHeOgyTSE"
      },
      "outputs": [],
      "source": [
        "missing_percent = (data.isnull().sum() / len(data)) * 100"
      ]
    },
    {
      "cell_type": "code",
      "execution_count": null,
      "metadata": {
        "id": "qiB0egbryXCV"
      },
      "outputs": [],
      "source": [
        "columns_to_drop = missing_percent[(missing_percent > 20) & (missing_percent.index != 'Price')].index.tolist()\n",
        "data_filtered = data.drop(columns=columns_to_drop)"
      ]
    },
    {
      "cell_type": "code",
      "execution_count": null,
      "metadata": {
        "id": "baklEj7xyceM"
      },
      "outputs": [],
      "source": [
        "data_filtered = data_filtered.dropna(subset=['Price'])"
      ]
    },
    {
      "cell_type": "code",
      "execution_count": null,
      "metadata": {
        "id": "0S0yId-Nygt_"
      },
      "outputs": [],
      "source": [
        "X = data_filtered.drop('Price', axis=1)\n",
        "y = data_filtered['Price']"
      ]
    },
    {
      "cell_type": "code",
      "execution_count": null,
      "metadata": {
        "colab": {
          "base_uri": "https://localhost:8080/"
        },
        "id": "Oj7PIQ3yykSJ",
        "outputId": "4c400f7e-b141-4b67-9e33-b281dc897a19"
      },
      "outputs": [
        {
          "name": "stdout",
          "output_type": "stream",
          "text": [
            "RMSE with filtered columns: 388776.6040623026\n"
          ]
        },
        {
          "name": "stderr",
          "output_type": "stream",
          "text": [
            "/usr/local/lib/python3.10/dist-packages/sklearn/metrics/_regression.py:492: FutureWarning: 'squared' is deprecated in version 1.4 and will be removed in 1.6. To calculate the root mean squared error, use the function'root_mean_squared_error'.\n",
            "  warnings.warn(\n"
          ]
        }
      ],
      "source": [
        "X = pd.get_dummies(X)\n",
        "X[column] = pd.to_numeric(X[column], errors='coerce')\n",
        "X = X.fillna(X.mean())\n",
        "X_train, X_test, y_train, y_test = train_test_split(X, y, test_size=0.2, random_state=42)\n",
        "model = LinearRegression()\n",
        "model.fit(X_train, y_train)\n",
        "y_pred = model.predict(X_test)\n",
        "rmse = mean_squared_error(y_test, y_pred, squared=False)\n",
        "print(f\"RMSE with filtered columns: {rmse}\")"
      ]
    },
    {
      "cell_type": "markdown",
      "metadata": {
        "id": "p9g5Gp1VzOEe"
      },
      "source": [
        "High Correlation Filter"
      ]
    },
    {
      "cell_type": "code",
      "execution_count": null,
      "metadata": {
        "colab": {
          "base_uri": "https://localhost:8080/"
        },
        "id": "_x3CrD6wzia_",
        "outputId": "2c7f952c-61df-4f48-ca20-72a86751c68f"
      },
      "outputs": [
        {
          "output_type": "stream",
          "name": "stdout",
          "text": [
            "RMSE with reduced columns (correlation > 0.85 removed): 388783.1609091534\n"
          ]
        },
        {
          "output_type": "stream",
          "name": "stderr",
          "text": [
            "/usr/local/lib/python3.10/dist-packages/sklearn/metrics/_regression.py:492: FutureWarning: 'squared' is deprecated in version 1.4 and will be removed in 1.6. To calculate the root mean squared error, use the function'root_mean_squared_error'.\n",
            "  warnings.warn(\n"
          ]
        }
      ],
      "source": [
        "import pandas as pd\n",
        "import numpy as np\n",
        "from sklearn.model_selection import train_test_split\n",
        "from sklearn.linear_model import LinearRegression\n",
        "from sklearn.metrics import mean_squared_error\n",
        "correlation_matrix = X.corr().abs()\n",
        "upper_triangle = correlation_matrix.where(\n",
        "    np.triu(np.ones(correlation_matrix.shape), k=1).astype(bool) # Changed pd.np to np\n",
        ")\n",
        "highly_correlated_features = [\n",
        "    column for column in upper_triangle.columns if any(upper_triangle[column] > 0.85)\n",
        "]\n",
        "X_reduced = X.drop(columns=highly_correlated_features)\n",
        "\n",
        "X_train_reduced, X_test_reduced, y_train, y_test = train_test_split(\n",
        "    X_reduced, y, test_size=0.2, random_state=42\n",
        ")\n",
        "\n",
        "model_reduced = LinearRegression()\n",
        "model_reduced.fit(X_train_reduced, y_train)\n",
        "y_pred_reduced = model_reduced.predict(X_test_reduced)\n",
        "rmse_reduced = mean_squared_error(y_test, y_pred_reduced, squared=False)\n",
        "print(f\"RMSE with reduced columns (correlation > 0.85 removed): {rmse_reduced}\")"
      ]
    },
    {
      "cell_type": "markdown",
      "metadata": {
        "id": "ysBgwWE71tuH"
      },
      "source": [
        "Low Varience Filter"
      ]
    },
    {
      "cell_type": "code",
      "execution_count": null,
      "metadata": {
        "id": "ZbC27gnr1zo8",
        "colab": {
          "base_uri": "https://localhost:8080/"
        },
        "outputId": "bb22cb48-3807-4b10-ad08-fc3251eae1e2"
      },
      "outputs": [
        {
          "output_type": "stream",
          "name": "stdout",
          "text": [
            "RMSE with variance filtered columns: 450213.43166508543\n"
          ]
        },
        {
          "output_type": "stream",
          "name": "stderr",
          "text": [
            "/usr/local/lib/python3.10/dist-packages/sklearn/metrics/_regression.py:492: FutureWarning: 'squared' is deprecated in version 1.4 and will be removed in 1.6. To calculate the root mean squared error, use the function'root_mean_squared_error'.\n",
            "  warnings.warn(\n"
          ]
        }
      ],
      "source": [
        "from sklearn.feature_selection import VarianceThreshold\n",
        "selector = VarianceThreshold(threshold=0.1)\n",
        "X_variance_filtered = selector.fit_transform(X_train)\n",
        "selected_features = X_train.columns[selector.get_support()]\n",
        "X_train_variance_filtered = X_train[selected_features]\n",
        "X_test_variance_filtered = X_test[selected_features]\n",
        "model_variance_filtered = LinearRegression()\n",
        "model_variance_filtered.fit(X_train_variance_filtered, y_train)\n",
        "y_pred_variance_filtered = model_variance_filtered.predict(X_test_variance_filtered)\n",
        "rmse_variance_filtered = mean_squared_error(y_test, y_pred_variance_filtered, squared=False)\n",
        "print(f\"RMSE with variance filtered columns: {rmse_variance_filtered}\")\n"
      ]
    },
    {
      "cell_type": "markdown",
      "source": [
        "Forward Feature Selection"
      ],
      "metadata": {
        "id": "j-1zsJrL4nXQ"
      }
    }
  ],
  "metadata": {
    "colab": {
      "provenance": []
    },
    "kernelspec": {
      "display_name": "Python 3",
      "name": "python3"
    },
    "language_info": {
      "name": "python"
    }
  },
  "nbformat": 4,
  "nbformat_minor": 0
}